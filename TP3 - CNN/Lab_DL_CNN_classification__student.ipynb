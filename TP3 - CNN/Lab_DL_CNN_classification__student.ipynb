{
 "cells": [
  {
   "cell_type": "markdown",
   "metadata": {
    "id": "Es_iHEzxW190"
   },
   "source": [
    "# TP Coding Convolutional Neural Networks in Pytorch - part 1\n",
    "\n",
    "Practical work originally created by Alasdair Newson (https://sites.google.com/site/alasdairnewson/)\n",
    "\n",
    "For any remark or suggestion, please feel free to contact me at:\n",
    "\n",
    "- loic.lefolgoc@telecom-paris.fr\n",
    "\n",
    "### Objective:\n",
    "\n",
    "We want to implement a Convolutional Neural Network (CNN) for image recognition. For this we will use two well-known datasets, the first simpler and the second more complicated :\n",
    "\n",
    "- MNIST (images of digits)\n",
    "- CIFAR-10 dataset https://www.cs.toronto.edu/~kriz/cifar.html.\n",
    "\n",
    "The CIFAR-10 dataset consists of 60000 32x32 colour images in 10 classes, with 6000 images per class. There are 50000 training images and 10000 test images.\n",
    "\n",
    "<br>We will first code the simple ConvNet described below using the Pytorch environment : https://pytorch.org/.\n",
    "\n",
    "- The input of the CNN is a set of (3,m,n) image tensors (m and n depend on the dataset).\n",
    "- We apply\n",
    "    - a Convolutional layer of 32 filters of shape (3,3), with stride (1,1) and padding='same' (i.e. we apply zero-padding)\n",
    "    - additive biases\n",
    "    - a ReLu activation function\n",
    "    - a Convolutional layer of 32 filters of shape (3,3), with stride (1,1) and padding='same' (i.e. we apply zero-padding)\n",
    "    - additive biases\n",
    "    - a ReLu activation function\n",
    "    - a Max Pooling Layer of shape (2,2) and stride (2,2) (i.e. we reduce by two the size in each dimension)\n",
    "    - We then Flatten the data (reduce them to a vector in order to be able to apply a Fully-Connected layer to it)\n",
    "    - A softmax activation function which outputs are the $P(y_c | X)$ (multi-class problem)\n",
    "\n",
    "\n",
    "<IMG SRC='https://drive.google.com/uc?export=view&id=10xVi1LejX5TAI-tuOQM-UrSrNYa9gi0q'>\n",
    "    \n",
    "You should use the \"SAME\" border conditions.\n",
    "    \n",
    "### Your task:\n",
    "You need to add the missing parts in the code (parts between # --- START CODE HERE and # --- END CODE HERE)"
   ]
  },
  {
   "cell_type": "markdown",
   "metadata": {
    "id": "Cgyu2GBVW192"
   },
   "source": [
    "# Load packages"
   ]
  },
  {
   "cell_type": "code",
   "execution_count": 34,
   "metadata": {
    "id": "1Qj5KY79W192"
   },
   "outputs": [],
   "source": [
    "%matplotlib inline\n",
    "import matplotlib.pyplot as plt\n",
    "import numpy as np\n",
    "from tqdm.notebook import tqdm\n",
    "\n",
    "import torch\n",
    "import torch.nn as nn\n",
    "import torch.nn.functional as F\n",
    "import torch.optim as optim\n",
    "import torchvision.datasets as datasets\n",
    "import torchvision.transforms as transforms"
   ]
  },
  {
   "cell_type": "markdown",
   "metadata": {
    "id": "OHJ17JDiliHA"
   },
   "source": [
    "### CNN model in Pytorch\n",
    "\n",
    "There are several ways to write a CNN model in pytorch. In this lab, you will be using the _Sequential_ class of pytorch (similarly to Tensorflow). We will see the syntax further on.\n",
    "\n"
   ]
  },
  {
   "cell_type": "markdown",
   "metadata": {
    "id": "Q_S76Wi_W199"
   },
   "source": [
    "# Import data\n",
    "\n",
    "We first import the MNIST dataset. The training set is imported in `mnist_trainset` and the test set in `mnist_testset`.\n",
    "\n",
    "In practice, training on `mnist_trainset` takes too much time for this practical work. For this reason, we define a smaller training set (`mnist_trainset_reduced`) with a random subset of images. We will use `mnist_trainset_reduced` when training."
   ]
  },
  {
   "cell_type": "code",
   "execution_count": 35,
   "metadata": {
    "id": "BrYw9LK9W19-",
    "colab": {
     "base_uri": "https://localhost:8080/"
    },
    "outputId": "5ce49317-7071-4c2d-b728-08c0f3107f1b"
   },
   "outputs": [
    {
     "output_type": "stream",
     "name": "stdout",
     "text": [
      "Dataset MNIST\n",
      "    Number of datapoints: 60000\n",
      "    Root location: ./data\n",
      "    Split: Train\n",
      "    StandardTransform\n",
      "Transform: Compose(\n",
      "               ToTensor()\n",
      "           )\n"
     ]
    }
   ],
   "source": [
    "# Convert input to Pytorch tensors (ToTensor includes a rescaling from the range [0,255] to [0.0,1.0])\n",
    "input_transform=transforms.Compose([transforms.ToTensor()])\n",
    "\n",
    "# Download MNIST training data\n",
    "mnist_trainset = datasets.MNIST(root='./data',train=True,download=True,transform=input_transform)\n",
    "print(mnist_trainset)\n",
    "\n",
    "# Download test dataset\n",
    "mnist_testset = datasets.MNIST(root='./data',train=False,download=True,transform=input_transform)\n",
    "\n",
    "# Create data loader with smaller dataset size\n",
    "max_mnist_size = 2000\n",
    "mnist_trainset_reduced = torch.utils.data.random_split(mnist_trainset, [max_mnist_size, len(mnist_trainset)-max_mnist_size])[0]"
   ]
  },
  {
   "cell_type": "markdown",
   "source": [
    "We also make a direct access to the training and test data as `torch` tensors. We will use them for visualization purposes and to compute the final training/test accuracies."
   ],
   "metadata": {
    "id": "NJ1vhc1SN_rs"
   }
  },
  {
   "cell_type": "code",
   "source": [
    "# Extract the actual data and labels\n",
    "X_train = torch.unsqueeze(mnist_trainset.data,axis=1)[mnist_trainset_reduced.indices]/255.0\n",
    "Y_train = mnist_trainset.targets[mnist_trainset_reduced.indices]\n",
    "X_test = torch.unsqueeze(mnist_testset.data,axis=1)/255.0\n",
    "Y_test = mnist_testset.targets"
   ],
   "metadata": {
    "id": "lXXsOChGKMO1"
   },
   "execution_count": 36,
   "outputs": []
  },
  {
   "cell_type": "markdown",
   "metadata": {
    "id": "Ss6fBjWrAS4U"
   },
   "source": [
    "## Exploring the data\n",
    "\n",
    "We can explore the dataset `mnist_trainset` manually, although when we train the model, we will use the ```DataLoader``` of Pytorch (see later).\n",
    "\n",
    "The images are contained in a sub-structure of ```mnist_trainset``` called ```data```. The labels are contained in another sub-structure of ```mnist_trainset``` called ```targets```. Note that these are kept in their native format (the transformations are not applied to them), so to use them we have to apply the transformation manually, as above.\n",
    "\n",
    "__NOTE__ In general, if you want to find out what a structure contains, use the command ```dir()```, this will give you a list of the sub-structures.\n",
    "\n",
    "__NOTE__ `mnist_trainset_reduced` is a `Subset` object rather than a `Dataset` object. We cannot call `.data` and `.target` directly on it, although we can pass it as argument to a `DataLoader`."
   ]
  },
  {
   "cell_type": "code",
   "execution_count": 37,
   "metadata": {
    "id": "rMqnFhbH9bcq",
    "colab": {
     "base_uri": "https://localhost:8080/"
    },
    "outputId": "58683dcc-a837-4c05-fe8f-74e80f360b48"
   },
   "outputs": [
    {
     "output_type": "stream",
     "name": "stdout",
     "text": [
      "['__add__', '__annotations__', '__class__', '__class_getitem__', '__delattr__', '__dict__', '__dir__', '__doc__', '__eq__', '__format__', '__ge__', '__getattribute__', '__getitem__', '__gt__', '__hash__', '__init__', '__init_subclass__', '__le__', '__len__', '__lt__', '__module__', '__ne__', '__new__', '__orig_bases__', '__parameters__', '__reduce__', '__reduce_ex__', '__repr__', '__setattr__', '__sizeof__', '__slots__', '__str__', '__subclasshook__', '__weakref__', '_check_exists', '_check_legacy_exist', '_format_transform_repr', '_is_protocol', '_load_data', '_load_legacy_data', '_repr_indent', 'class_to_idx', 'classes', 'data', 'download', 'extra_repr', 'mirrors', 'processed_folder', 'raw_folder', 'resources', 'root', 'target_transform', 'targets', 'test_data', 'test_file', 'test_labels', 'train', 'train_data', 'train_labels', 'training_file', 'transform', 'transforms']\n",
      "Size of training data :  torch.Size([60000, 28, 28])\n",
      "Size of training labels :  torch.Size([60000])\n"
     ]
    }
   ],
   "source": [
    "print(dir(mnist_trainset))\n",
    "\n",
    "print(\"Size of training data : \", mnist_trainset.data.shape)\n",
    "print(\"Size of training labels : \", mnist_trainset.targets.shape)\n"
   ]
  },
  {
   "cell_type": "markdown",
   "metadata": {
    "id": "MnTkYmu-W1-E"
   },
   "source": [
    "The mnist dataset has 10 classes. These are the following :"
   ]
  },
  {
   "cell_type": "code",
   "execution_count": 38,
   "metadata": {
    "id": "kvJ7McU7W1-F"
   },
   "outputs": [],
   "source": [
    "mnist_list = [ '0', '1','2','3','4','5','6','7','8','9']"
   ]
  },
  {
   "cell_type": "markdown",
   "metadata": {
    "id": "6f_7d1NnW1-L"
   },
   "source": [
    "## Display some of the images"
   ]
  },
  {
   "cell_type": "code",
   "execution_count": 39,
   "metadata": {
    "id": "9OcnfCwbW1-M",
    "colab": {
     "base_uri": "https://localhost:8080/",
     "height": 468
    },
    "outputId": "f6a6e393-ecdb-40ac-9c93-2d44d39cc8e6"
   },
   "outputs": [
    {
     "output_type": "display_data",
     "data": {
      "text/plain": [
       "<Figure size 1000x600 with 10 Axes>"
      ],
      "image/png": "[encoded data removed]"
     },
     "metadata": {}
    }
   ],
   "source": [
    "plt.figure(figsize=(10, 6))\n",
    "for idx in range(0,10):\n",
    "    plt.subplot(2, 5, idx+1)\n",
    "    rand_ind = np.random.randint(0,mnist_trainset.data.shape[0])\n",
    "    plt.imshow(mnist_trainset.data[rand_ind,:,:],cmap='gray')\n",
    "    plt.title(mnist_list[int(mnist_trainset.targets[rand_ind])])"
   ]
  },
  {
   "cell_type": "markdown",
   "metadata": {
    "id": "YzRfY8QTBIX-"
   },
   "source": [
    "# Defining the model for MNIST\n",
    "\n",
    "We will now define the simple CNN described above, for use with MNIST. The input of the CNN is a set of (28,28,1) image tensors. We apply the following layers:\n",
    "\n",
    "    - a Convolutional layer of 32 filters of shape (3,3), with stride (1,1) and padding='same'\n",
    "    - a ReLu activation function\n",
    "    \n",
    "    - a Convolutional layer of 32 filters of shape (3,3), with stride (1,1) and padding='same'\n",
    "    - a ReLu activation function\n",
    "    - a Max Pooling Layer of shape (2,2) and stride (2,2) (i.e. we reduce by two the size in each dimension)\n",
    "    \n",
    "    - We then Flatten the data: reduce them to a vector in order to be able to apply a Fully-Connected layer to it\n",
    "    - Dense (fully connected) layer. Note, you will have to determine the input size, that is to say the number of elements after the last Max Pooling layer.\n",
    "\n",
    "__VERY IMPORTANT NOTE !!!__\n",
    "\n",
    "Pytorch carries out the softmax which we would expect at the end of our network automatically in the loss function that we will use, so there is no need to add it. Nevertheless, you must understand that the network output is a vector (of logits) which is _not_ normalised to be a probability distribution. This will be important later on.\n",
    "\n",
    "Now, we define the following hyper-parameters of the model :"
   ]
  },
  {
   "cell_type": "code",
   "execution_count": 40,
   "metadata": {
    "id": "3T9d8TYFBONz"
   },
   "outputs": [],
   "source": [
    "learning_rate = 0.01\n",
    "n_epochs = 10\n",
    "batch_size = 64\n",
    "nb_classes = int(mnist_trainset.targets.max()+1)\n",
    "\n",
    "nb_filters = 32       # number of convolutional filters to use\n",
    "kernel_size = (3, 3)  # convolution kernel size\n",
    "pool_size = (2, 2)    # size of pooling area for max pooling\n",
    "\n",
    "# --- Size of the successive layers\n",
    "n_h_0 = 1             # greyscale input images\n",
    "n_h_1 = nb_filters\n",
    "n_h_2 = nb_filters"
   ]
  },
  {
   "cell_type": "markdown",
   "metadata": {
    "id": "5MOihxZ-W1-W"
   },
   "source": [
    "# Model 1 : defining a CNN with the Sequential API of Pytorch for MNIST\n",
    "\n",
    "We are now going to create the CNN with Pytorch.\n",
    "\n",
    "The Sequential approach is quite similar to that of Tensorflow. To define a model, just write:\n",
    "\n",
    "```my_model = torch.nn.Sequential( first_layer, second_layer, ...)```\n",
    "\n",
    "Each layer must be a function imported from the Pytorch. You can use the following functions:\n",
    "\n",
    "- ```torch.nn.Conv2d()```\n",
    "- ```torch.nn.ReLU()```\n",
    "- ```torch.nn.MaxPool2d()```\n",
    "- ```torch.nn.Flatten()```\n",
    "- ```torch.nn.Linear()```\n",
    "\n",
    "Look at the documentation online to find the correct parameters. For example:\n",
    "\n",
    "- https://pytorch.org/docs/stable/generated/torch.nn.Conv2d.html\n"
   ]
  },
  {
   "cell_type": "code",
   "execution_count": 41,
   "metadata": {
    "id": "npx-4C1SW1-X"
   },
   "outputs": [],
   "source": [
    "# BEGIN STUDENT CODE\n",
    "mnist_model = torch.nn.Sequential(\n",
    "    nn.Conv2d(in_channels=n_h_0, out_channels=n_h_1, kernel_size=kernel_size, stride=1, padding='same'),\n",
    "    nn.ReLU(),\n",
    "    nn.Conv2d(in_channels=n_h_1, out_channels=n_h_2, kernel_size=kernel_size, stride=1, padding='same'),\n",
    "    nn.ReLU(),\n",
    "    nn.MaxPool2d(kernel_size=pool_size, stride=2),\n",
    "    nn.Flatten(),\n",
    "    nn.Linear(n_h_2 * 14 * 14, 10)\n",
    ")\n",
    "# END STUDENT CODE"
   ]
  },
  {
   "cell_type": "markdown",
   "source": [
    "## Define dataloader"
   ],
   "metadata": {
    "id": "lWAn7YfDLtZ3"
   }
  },
  {
   "cell_type": "markdown",
   "source": [
    "We use the ```torch.utils.data.DataLoader``` function of Pytorch to easily iterate over mini-batches of data. ```torch.utils.data.DataLoader``` is a useful function to extract batches of data from a dataset, applying the transformations which we have specified (conversion to Pytorch tensor, normalisation etc).\n",
    "\n",
    "We will train using the smaller training set, `mnist_trainset_reduced`."
   ],
   "metadata": {
    "id": "09fTmlMHLvNe"
   }
  },
  {
   "cell_type": "code",
   "source": [
    "mnist_train_loader = torch.utils.data.DataLoader(mnist_trainset_reduced, batch_size=batch_size, shuffle=True)"
   ],
   "metadata": {
    "id": "mQ5bb_9kLvqp"
   },
   "execution_count": 42,
   "outputs": []
  },
  {
   "cell_type": "markdown",
   "metadata": {
    "id": "7FJS2SGeEwHF"
   },
   "source": [
    "## Define loss function and optimiser\n",
    "\n",
    "Pytorch provides an easy way to define the loss criterion to optimise. The syntax is (considering that the Adam optimiser is used):\n",
    "\n",
    "- ```criterion = torch.nn.BCELoss()``` or ```criterion = torch.nn.CrossEntropyLoss()```, etc., depending on your problem.\n",
    "- ```optimizer = torch.optim.Adam(mnist_model.parameters(), lr=learning_rate)```\n",
    "\n",
    "Fill in the following code, choosing the correct criterion to optimise. For the criterion, the individual loss over individual data samples can be aggregated into the total loss in several ways. Choose `reduction='sum'`, which takes the sum of individual losses."
   ]
  },
  {
   "cell_type": "code",
   "execution_count": 43,
   "metadata": {
    "id": "AK1pxqFCE090"
   },
   "outputs": [],
   "source": [
    "# BEGIN STUDENT CODE\n",
    "criterion = nn.CrossEntropyLoss(reduction='sum')\n",
    "optimizer = optim.Adam(mnist_model.parameters(), lr=learning_rate)\n",
    "# END STUDENT CODE"
   ]
  },
  {
   "cell_type": "markdown",
   "metadata": {
    "id": "42zy2XwsNfTQ"
   },
   "source": [
    "## CNN prediction conversion\n",
    "\n",
    "We recall here that the output of the classification CNN in Pytorch is a vector which is __NOT__ normalised to be a probability distribution. Therefore, for the purposes of finding the prediction of the CNN, we create a function which first converts an input vector to a probability distribution, and then determines the most likely class for each vector. The output should be, for each vector, an integer between 0 and (number of classes) $-1$.\n",
    "\n",
    "The inputs to this function will be Pytorch tensors, so you can use the following Pytorch functions on them :\n",
    "\n",
    "- ```torch.nn.Softmax()```\n",
    "- ```torch.argmax()```\n",
    "\n",
    "Create this function now."
   ]
  },
  {
   "cell_type": "code",
   "execution_count": 44,
   "metadata": {
    "id": "TqCPink-N1LB"
   },
   "outputs": [],
   "source": [
    "def vector_to_class(x):\n",
    "  # BEGIN STUDENT CODE\n",
    "  y = torch.argmax(nn.Softmax(dim=1)(x), dim=1)\n",
    "  # END STUDENT CODE\n",
    "  return y"
   ]
  },
  {
   "cell_type": "markdown",
   "metadata": {
    "id": "sYzRpoTgGhpG"
   },
   "source": [
    "## Accuracy\n",
    "\n",
    "Now, define a function which calculates the accuracy of the output of the neural network, with respect to the input labels. We consider that the input is a vector of class numbers (similar to the output of `vector_to_class`, but converted to a numpy array)."
   ]
  },
  {
   "cell_type": "code",
   "execution_count": 45,
   "metadata": {
    "id": "f4V5LKDhGsQT"
   },
   "outputs": [],
   "source": [
    "def cnn_accuracy(predict,labels):\n",
    "  # BEGIN STUDENT CODE\n",
    "  accuracy = np.asarray(labels==predict).mean()\n",
    "  # END STUDENT CODE\n",
    "  return accuracy"
   ]
  },
  {
   "cell_type": "markdown",
   "metadata": {
    "id": "ljHi0tfiW1-h"
   },
   "source": [
    "## Training the model\n",
    "\n",
    "Now, we carry out the actual training of the model."
   ]
  },
  {
   "cell_type": "code",
   "execution_count": 47,
   "metadata": {
    "id": "HVe9ZWAdW1-h",
    "colab": {
     "base_uri": "https://localhost:8080/",
     "height": 757,
     "referenced_widgets": [
      "ba23909c305a47a6b7b64864c59d46b2",
      "4fc52afa0d9e4362bdae3eeb7b25c8ed",
      "0004d85044ea405db3d491ca4be3176d",
      "8c58444011fb490d846169b75ce2932e",
      "6c81d29851c9499faedec57bd58e499a",
      "a1a2d9564bd84b219bb31d58bc8525ee",
      "72c6a9ec7d184f27a9f6ef370e08433f",
      "c16ca2ac8e584647b49253164e7c1ed0",
      "ef97e029d3b24593abe2f54ec9581503",
      "ec022aed3bf243cd9d2b60afd9c3df67",
      "a71da53798b44452a7849c76861179c4"
     ]
    },
    "outputId": "6568f07b-7de8-4558-c509-faae9b7f50aa"
   },
   "outputs": [
    {
     "output_type": "display_data",
     "data": {
      "text/plain": [
       "  0%|          | 0/10 [00:00<?, ?it/s]"
      ],
      "application/vnd.jupyter.widget-view+json": {
       "version_major": 2,
       "version_minor": 0,
       "model_id": "ba23909c305a47a6b7b64864c59d46b2"
      }
     },
     "metadata": {}
    },
    {
     "output_type": "stream",
     "name": "stdout",
     "text": [
      "Epoch:0\n",
      "\tTrain Loss:0.0160\n",
      "\tAccuracy:99.60%\n",
      "\n",
      "Epoch:1\n",
      "\tTrain Loss:0.0187\n",
      "\tAccuracy:99.20%\n",
      "\n",
      "Epoch:2\n",
      "\tTrain Loss:0.0159\n",
      "\tAccuracy:99.45%\n",
      "\n",
      "Epoch:3\n",
      "\tTrain Loss:0.0249\n",
      "\tAccuracy:99.05%\n",
      "\n",
      "Epoch:4\n",
      "\tTrain Loss:0.0148\n",
      "\tAccuracy:99.50%\n",
      "\n",
      "Epoch:5\n",
      "\tTrain Loss:0.0322\n",
      "\tAccuracy:99.05%\n",
      "\n",
      "Epoch:6\n",
      "\tTrain Loss:0.0419\n",
      "\tAccuracy:98.70%\n",
      "\n",
      "Epoch:7\n",
      "\tTrain Loss:0.0307\n",
      "\tAccuracy:99.00%\n",
      "\n",
      "Epoch:8\n",
      "\tTrain Loss:0.0297\n",
      "\tAccuracy:98.75%\n",
      "\n",
      "Epoch:9\n",
      "\tTrain Loss:0.0300\n",
      "\tAccuracy:99.00%\n",
      "\n"
     ]
    }
   ],
   "source": [
    "train_losses=[]\n",
    "valid_losses=[]\n",
    "\n",
    "for epoch in tqdm(range(0,n_epochs)):\n",
    "  train_loss=0.0\n",
    "  all_labels = []\n",
    "  all_predicted = []\n",
    "\n",
    "  for batch_idx, (imgs, labels) in enumerate(mnist_train_loader):\n",
    "    # pass the samples through the network\n",
    "    predict = mnist_model(imgs) # FILL IN STUDENT\n",
    "    # apply loss function\n",
    "    loss = criterion(predict, labels) # FILL IN STUDENT\n",
    "    # set the gradients back to 0\n",
    "    optimizer.zero_grad() # FILL IN STUDENT\n",
    "    # backpropagation\n",
    "    loss.backward() # FILL IN STUDENT\n",
    "    # parameter update\n",
    "    optimizer.step() # FILL IN STUDENT\n",
    "    # compute the train loss\n",
    "    train_loss += loss.item()\n",
    "    # store labels and class predictions\n",
    "    all_labels.extend(labels.tolist())\n",
    "    all_predicted.extend(vector_to_class(predict).tolist())\n",
    "\n",
    "  print('Epoch:{}\\n\\tTrain Loss:{:.4f}'.format(epoch,train_loss/len(mnist_train_loader.dataset)))\n",
    "\n",
    "  # calculate accuracy\n",
    "  print('\\tAccuracy:{:.2%}\\n'.format(cnn_accuracy(np.array(all_predicted),np.array(all_labels))))"
   ]
  },
  {
   "cell_type": "markdown",
   "source": [
    "<br> Let's compute the final training and test accuracies:"
   ],
   "metadata": {
    "id": "m90MIu6PC96D"
   }
  },
  {
   "cell_type": "code",
   "execution_count": 48,
   "metadata": {
    "id": "rOsF40hkEqx1",
    "colab": {
     "base_uri": "https://localhost:8080/"
    },
    "outputId": "8a5d0af7-1bda-4a56-83ea-35dba3d67c29"
   },
   "outputs": [
    {
     "output_type": "stream",
     "name": "stdout",
     "text": [
      "Train Accuracy: 99.40%\n",
      "Test Accuracy: 93.47%\n"
     ]
    }
   ],
   "source": [
    "# Calculate accuracy on the training set and the test set\n",
    "\n",
    "# BEGIN FILL IN STUDENT (use X_train, Y_train, X_test, Y_test)\n",
    "predict_train = vector_to_class(mnist_model(X_train))\n",
    "predict_test = vector_to_class(mnist_model(X_test))\n",
    "\n",
    "train_accuracy = cnn_accuracy(predict_train, Y_train)\n",
    "test_accuracy = cnn_accuracy(predict_test, Y_test)\n",
    "# END FILL IN STUDENT\n",
    "\n",
    "print(f\"Train Accuracy: {train_accuracy:.2%}\")\n",
    "print(f\"Test Accuracy: {test_accuracy:.2%}\")"
   ]
  },
  {
   "cell_type": "code",
   "execution_count": 49,
   "metadata": {
    "id": "cRxCNvMO5Yzm",
    "colab": {
     "base_uri": "https://localhost:8080/",
     "height": 486
    },
    "outputId": "cafacaaf-7550-42dd-88ef-920321a14450"
   },
   "outputs": [
    {
     "output_type": "stream",
     "name": "stdout",
     "text": [
      "Visual results : \n"
     ]
    },
    {
     "output_type": "display_data",
     "data": {
      "text/plain": [
       "<Figure size 1000x600 with 10 Axes>"
      ],
      "image/png": "[encoded data removed]"
     },
     "metadata": {}
    }
   ],
   "source": [
    "print(\"Visual results : \")\n",
    "\n",
    "plt.figure(figsize=(10, 6))\n",
    "for idx in range(0,10):\n",
    "    plt.subplot(2, 5, idx+1)\n",
    "    rand_ind = np.random.randint(0,X_test.shape[0])\n",
    "    test_img = torch.unsqueeze(X_test[rand_ind,:,:,:],axis=1)\n",
    "    predicted_class = vector_to_class(mnist_model(test_img))\n",
    "    plt.imshow(test_img.squeeze(),cmap='gray')\n",
    "    plt.title(mnist_list[int(predicted_class)])"
   ]
  },
  {
   "cell_type": "markdown",
   "metadata": {
    "id": "M5D5BY20W1-m"
   },
   "source": [
    "# Model 2: create a CNN on CIFAR10\n",
    "\n",
    "We are now going to train the same network architecture on a more difficult dataset : CIFAR-10\n",
    "\n",
    "First, we import the CIFAR-10 data and carry out some pre-processing :"
   ]
  },
  {
   "cell_type": "code",
   "execution_count": 50,
   "metadata": {
    "id": "k15abDeRW1-m",
    "colab": {
     "base_uri": "https://localhost:8080/"
    },
    "outputId": "0fb3236a-d2fc-447a-d685-2202357dfc5c"
   },
   "outputs": [
    {
     "output_type": "stream",
     "name": "stdout",
     "text": [
      "Files already downloaded and verified\n",
      "Dataset CIFAR10\n",
      "    Number of datapoints: 50000\n",
      "    Root location: ./data\n",
      "    Split: Train\n",
      "    StandardTransform\n",
      "Transform: Compose(\n",
      "               ToTensor()\n",
      "           )\n",
      "Files already downloaded and verified\n"
     ]
    }
   ],
   "source": [
    "# Convert input to Pytorch tensors\n",
    "input_transform=transforms.Compose( [transforms.ToTensor()])\n",
    "\n",
    "# Download CIFAR-10 training data\n",
    "cifar_trainset = datasets.CIFAR10(root='./data',train=True,download=True,transform=input_transform)\n",
    "print(cifar_trainset)\n",
    "\n",
    "# Download test dataset\n",
    "cifar_testset = datasets.CIFAR10(root='./data',train=False,download=True,transform=input_transform)\n",
    "\n",
    "# Create data loader with smaller dataset size\n",
    "max_cifar_size = 5000\n",
    "cifar_trainset_reduced = torch.utils.data.random_split(cifar_trainset, [max_cifar_size, len(cifar_trainset)-max_cifar_size])[0]"
   ]
  },
  {
   "cell_type": "code",
   "source": [
    "# Extract the actual data and labels\n",
    "X_train = torch.from_numpy(cifar_trainset.data[cifar_trainset_reduced.indices]/255.0).float().permute(0,3,1,2)\n",
    "Y_train = torch.tensor(cifar_trainset.targets, dtype=torch.uint8)[cifar_trainset_reduced.indices]\n",
    "X_test = torch.from_numpy(cifar_testset.data/255.0).float().permute(0,3,1,2)\n",
    "Y_test = torch.tensor(cifar_testset.targets, dtype=torch.uint8)\n",
    "\n",
    "nb_channels = X_train.shape[1]"
   ],
   "metadata": {
    "id": "E1fWrMSmR16_"
   },
   "execution_count": 51,
   "outputs": []
  },
  {
   "cell_type": "code",
   "execution_count": 52,
   "metadata": {
    "id": "5Al5b-S37T4A"
   },
   "outputs": [],
   "source": [
    "# The CIFAR10 categories\n",
    "cifar_10_list = [ 'airplane', 'automobile','bird','cat','deer','dog','frog','horse','ship','truck']"
   ]
  },
  {
   "cell_type": "markdown",
   "metadata": {
    "id": "WpM3zdF_W1-x"
   },
   "source": [
    "## Display some of the images"
   ]
  },
  {
   "cell_type": "code",
   "execution_count": 53,
   "metadata": {
    "id": "PeFaoz2AW1-y",
    "colab": {
     "base_uri": "https://localhost:8080/",
     "height": 468
    },
    "outputId": "1ee06bfc-8c68-45af-a679-5e0d502e5fd6"
   },
   "outputs": [
    {
     "output_type": "display_data",
     "data": {
      "text/plain": [
       "<Figure size 1000x600 with 10 Axes>"
      ],
      "image/png": "[encoded data removed]"
     },
     "metadata": {}
    }
   ],
   "source": [
    "plt.figure(figsize=(10, 6))\n",
    "for idx in range(0,10):\n",
    "    plt.subplot(2, 5, idx+1)\n",
    "    rand_ind = np.random.randint(0,X_test.shape[0])\n",
    "    plt.imshow(X_test[rand_ind,:,:,:].permute(1,2,0))\n",
    "    plt.title(cifar_10_list[int(Y_test[rand_ind])])"
   ]
  },
  {
   "cell_type": "markdown",
   "metadata": {
    "id": "XrGI_L3OW1-3"
   },
   "source": [
    "# Define the architecture again, for CIFAR-10\n",
    "\n",
    "In this case, we are going to add a layer because the data is more complex. Therefore, we use the following architecture :\n",
    "\n",
    "    - a Convolutional layer of 32 filters of shape (3,3), with stride (1,1) and padding='same'\n",
    "    - additive biases\n",
    "    - a ReLu activation function\n",
    "    \n",
    "    - a Convolutional layer of 32 filters of shape (3,3), with stride (1,1) and padding='same'\n",
    "    - additive biases\n",
    "    - a ReLu activation function\n",
    "    - a Max Pooling Layer of shape (2,2) and stride (2,2) (i.e. we reduce by two the size in each dimension)\n",
    "    \n",
    "    - a Convolutional layer of 32 filters of shape (3,3), with stride (1,1) and padding='same'\n",
    "    - additive biases\n",
    "    - a ReLu activation function\n",
    "    - a Max Pooling Layer of shape (2,2) and stride (2,2) (i.e. we reduce by two the size in each dimension)\n",
    "\n",
    "    - a Convolutional layer of 32 filters of shape (3,3), with stride (1,1) and padding='same'\n",
    "    - additive biases\n",
    "    - a ReLu activation function\n",
    "    - a Max Pooling Layer of shape (2,2) and stride (2,2) (i.e. we reduce by two the size in each dimension)\n",
    "    \n",
    "    - We then Flatten the data (reduce them to a vector in order to be able to apply a Fully-Connected layer to it)\n",
    "    - Dense (fully connected) layer"
   ]
  },
  {
   "cell_type": "code",
   "execution_count": 54,
   "metadata": {
    "id": "OEs-EnXLW1-4"
   },
   "outputs": [],
   "source": [
    "learning_rate = 0.01\n",
    "n_epochs = 25\n",
    "batch_size = 256\n",
    "nb_classes = 10\n",
    "\n",
    "nb_filters = 32         # number of convolutional filters to use\n",
    "kernel_size = (3, 3)    # convolution kernel size\n",
    "pool_size = (2, 2)      # size of pooling area for max pooling\n",
    "\n",
    "# --- Size of the successive layers\n",
    "n_h_0 = nb_channels\n",
    "n_h_1 = nb_filters\n",
    "n_h_2 = nb_filters\n",
    "n_h_3 = nb_filters"
   ]
  },
  {
   "cell_type": "markdown",
   "metadata": {
    "id": "I0ACZkTFW1-7"
   },
   "source": [
    "Now, modify the previous code (you can copy/paste/modify the necessary parts) to define the model for CIFAR-10."
   ]
  },
  {
   "cell_type": "code",
   "execution_count": 55,
   "metadata": {
    "id": "RmbX6oq0W1-7"
   },
   "outputs": [],
   "source": [
    "# BEGIN STUDENT CODE\n",
    "cifar_model = torch.nn.Sequential(\n",
    "    nn.Conv2d(in_channels=n_h_0, out_channels=n_h_1, kernel_size=kernel_size, stride=1, padding='same', bias=True),\n",
    "    nn.ReLU(),\n",
    "    nn.Conv2d(in_channels=n_h_1, out_channels=n_h_2, kernel_size=kernel_size, stride=1, padding='same', bias=True),\n",
    "    nn.ReLU(),\n",
    "    nn.MaxPool2d(kernel_size=pool_size, stride=2),\n",
    "    nn.Conv2d(in_channels=n_h_2, out_channels=n_h_3, kernel_size=kernel_size, stride=1, padding='same', bias=True),\n",
    "    nn.ReLU(),\n",
    "    nn.MaxPool2d(kernel_size=pool_size, stride=2),\n",
    "    nn.Flatten(),\n",
    "    nn.Linear(n_h_3 * 8 * 8, 10)\n",
    ")\n",
    "\n",
    "cifar_train_loader = torch.utils.data.DataLoader(cifar_trainset_reduced, batch_size=batch_size, shuffle=True)\n",
    "criterion = nn.CrossEntropyLoss(reduction='sum')\n",
    "optimizer = optim.Adam(cifar_model.parameters(), lr=learning_rate)\n",
    "# END STUDENT CODE"
   ]
  },
  {
   "cell_type": "markdown",
   "metadata": {
    "id": "KUmQKIEe8_QU"
   },
   "source": [
    "Now, carry out training on the CIFAR-10 dataset (use the previous code as an example)."
   ]
  },
  {
   "cell_type": "code",
   "execution_count": 56,
   "metadata": {
    "id": "pyEwLnLR9gv0",
    "colab": {
     "base_uri": "https://localhost:8080/",
     "height": 1000,
     "referenced_widgets": [
      "4f4e1209ca44412ba8e4905d299110cb",
      "aaf10cee2acc4393bc03826774e88b58",
      "140bf3eefabf40d082e0e5976d218bd7",
      "3f36ba2ee6d344268c767548fb01218b",
      "2be9ee1ff3ec4db5acb464b02c7427e5",
      "2e22d5af7b184848831ffc757dd994db",
      "4ee4e5e4d9fe43f280b8eb7e9936a555",
      "ee68f1c4ecc04684b61ce09d7bb7194b",
      "91abde7f92794921946806b0a3258cf5",
      "e5f35445f4af4c71bbc5b8926e4e278f",
      "3acb8248a08f4c52be82948693cc10c9"
     ]
    },
    "outputId": "d989996b-4ea3-4bde-9d7f-8d8713d3a65a"
   },
   "outputs": [
    {
     "output_type": "display_data",
     "data": {
      "text/plain": [
       "  0%|          | 0/25 [00:00<?, ?it/s]"
      ],
      "application/vnd.jupyter.widget-view+json": {
       "version_major": 2,
       "version_minor": 0,
       "model_id": "4f4e1209ca44412ba8e4905d299110cb"
      }
     },
     "metadata": {}
    },
    {
     "output_type": "stream",
     "name": "stdout",
     "text": [
      "Epoch:0\n",
      "\tTrain Loss:2.2590\n",
      "\tAccuracy:16.58%\n",
      "\n",
      "Epoch:1\n",
      "\tTrain Loss:1.9253\n",
      "\tAccuracy:31.26%\n",
      "\n",
      "Epoch:2\n",
      "\tTrain Loss:1.7267\n",
      "\tAccuracy:39.66%\n",
      "\n",
      "Epoch:3\n",
      "\tTrain Loss:1.5871\n",
      "\tAccuracy:43.32%\n",
      "\n",
      "Epoch:4\n",
      "\tTrain Loss:1.4953\n",
      "\tAccuracy:47.56%\n",
      "\n",
      "Epoch:5\n",
      "\tTrain Loss:1.4183\n",
      "\tAccuracy:50.44%\n",
      "\n",
      "Epoch:6\n",
      "\tTrain Loss:1.3766\n",
      "\tAccuracy:51.06%\n",
      "\n",
      "Epoch:7\n",
      "\tTrain Loss:1.2633\n",
      "\tAccuracy:55.46%\n",
      "\n",
      "Epoch:8\n",
      "\tTrain Loss:1.2118\n",
      "\tAccuracy:57.42%\n",
      "\n",
      "Epoch:9\n",
      "\tTrain Loss:1.1776\n",
      "\tAccuracy:58.78%\n",
      "\n",
      "Epoch:10\n",
      "\tTrain Loss:1.0922\n",
      "\tAccuracy:62.14%\n",
      "\n",
      "Epoch:11\n",
      "\tTrain Loss:1.0122\n",
      "\tAccuracy:64.60%\n",
      "\n",
      "Epoch:12\n",
      "\tTrain Loss:0.9851\n",
      "\tAccuracy:66.02%\n",
      "\n",
      "Epoch:13\n",
      "\tTrain Loss:0.9349\n",
      "\tAccuracy:67.00%\n",
      "\n",
      "Epoch:14\n",
      "\tTrain Loss:0.8705\n",
      "\tAccuracy:68.72%\n",
      "\n",
      "Epoch:15\n",
      "\tTrain Loss:0.8146\n",
      "\tAccuracy:71.64%\n",
      "\n",
      "Epoch:16\n",
      "\tTrain Loss:0.7482\n",
      "\tAccuracy:73.02%\n",
      "\n",
      "Epoch:17\n",
      "\tTrain Loss:0.6407\n",
      "\tAccuracy:77.64%\n",
      "\n",
      "Epoch:18\n",
      "\tTrain Loss:0.5729\n",
      "\tAccuracy:79.64%\n",
      "\n",
      "Epoch:19\n",
      "\tTrain Loss:0.5433\n",
      "\tAccuracy:81.06%\n",
      "\n",
      "Epoch:20\n",
      "\tTrain Loss:0.4762\n",
      "\tAccuracy:83.68%\n",
      "\n",
      "Epoch:21\n",
      "\tTrain Loss:0.4384\n",
      "\tAccuracy:85.06%\n",
      "\n",
      "Epoch:22\n",
      "\tTrain Loss:0.3830\n",
      "\tAccuracy:86.96%\n",
      "\n",
      "Epoch:23\n",
      "\tTrain Loss:0.3263\n",
      "\tAccuracy:88.68%\n",
      "\n",
      "Epoch:24\n",
      "\tTrain Loss:0.3190\n",
      "\tAccuracy:89.12%\n",
      "\n"
     ]
    }
   ],
   "source": [
    "# BEGIN STUDENT CODE\n",
    "train_losses=[]\n",
    "valid_losses=[]\n",
    "\n",
    "for epoch in tqdm(range(0,n_epochs)):\n",
    "  train_loss=0.0\n",
    "  all_labels = []\n",
    "  all_predicted = []\n",
    "\n",
    "  for batch_idx, (imgs, labels) in enumerate(cifar_train_loader):\n",
    "    # pass the samples through the network\n",
    "    predict = cifar_model(imgs) # FILL IN STUDENT\n",
    "    # apply loss function\n",
    "    loss = criterion(predict, labels) # FILL IN STUDENT\n",
    "    # set the gradients back to 0\n",
    "    optimizer.zero_grad() # FILL IN STUDENT\n",
    "    # backpropagation\n",
    "    loss.backward() # FILL IN STUDENT\n",
    "    # parameter update\n",
    "    optimizer.step() # FILL IN STUDENT\n",
    "    # compute the train loss\n",
    "    train_loss += loss.item()\n",
    "    # store labels and class predictions\n",
    "    all_labels.extend(labels.tolist())\n",
    "    all_predicted.extend(vector_to_class(predict).tolist())\n",
    "\n",
    "  print('Epoch:{}\\n\\tTrain Loss:{:.4f}'.format(epoch,train_loss/len(cifar_train_loader.dataset)))\n",
    "\n",
    "  # calculate accuracy\n",
    "  print('\\tAccuracy:{:.2%}\\n'.format(cnn_accuracy(np.array(all_predicted),np.array(all_labels))))\n",
    "# END STUDENT CODE"
   ]
  },
  {
   "cell_type": "markdown",
   "source": [
    "Print the training and test accuracy (use the previous code as an example):"
   ],
   "metadata": {
    "id": "18xwDDSTKPap"
   }
  },
  {
   "cell_type": "code",
   "source": [
    "# Calculate accuracy on the training set and the test set\n",
    "\n",
    "# BEGIN FILL IN STUDENT (use X_train, Y_train, X_test, Y_test)\n",
    "predict_train = vector_to_class(cifar_model(X_train))\n",
    "predict_test = vector_to_class(cifar_model(X_test))\n",
    "\n",
    "train_accuracy = cnn_accuracy(vector_to_class(cifar_model(X_train)), Y_train)\n",
    "test_accuracy = cnn_accuracy(vector_to_class(cifar_model(X_test)), Y_test)\n",
    "# END STUDENT CODE\n",
    "\n",
    "print(f\"Train Accuracy: {train_accuracy:.2%}\")\n",
    "print(f\"Test Accuracy: {test_accuracy:.2%}\")"
   ],
   "metadata": {
    "id": "a8VvPS8WQ92b",
    "colab": {
     "base_uri": "https://localhost:8080/"
    },
    "outputId": "50c599df-9c61-400e-a8b6-f682f0144afa"
   },
   "execution_count": 57,
   "outputs": [
    {
     "output_type": "stream",
     "name": "stdout",
     "text": [
      "Train Accuracy: 90.38%\n",
      "Test Accuracy: 45.74%\n"
     ]
    }
   ]
  },
  {
   "cell_type": "markdown",
   "metadata": {
    "id": "afxhSlTZW1_A"
   },
   "source": [
    " What do you think about the results (better or worse than MNIST) ? Why do you think this is ? How could you improve the results ?\n",
    "\n",
    "><div class=\"alert alert-block alert-success\"><b>Answer:</b>\n",
    ">\n",
    ">* Results are <b>worse than MNIST</b>, especially for test set, but also slightly for the train set. We have a clear <b>overfitting</b>\n",
    ">* Possible reasons are that in the CIFAR dataset :\n",
    ">   * images are <b>colored</b>\n",
    ">   * images have a <b>background</b> that can make more difficult to isolate the object we want to classify\n",
    ">* In order to improve our model, we could:\n",
    ">   * try a <b>data augmentation</b> for the train set such as flipping or miroring some images to help our model generalizing\n",
    ">   * use some <b>regularization</b> techniques like <b>dropout or weight decay</b>, to prevent the overfitting we saw here\n",
    ">   * use a <b>more advance architecture</b> (ResNet for eg.)\n",
    "></div>"
   ]
  },
  {
   "cell_type": "markdown",
   "metadata": {
    "id": "sIvS5eHEW1_A"
   },
   "source": [
    "# Visualising the convolutional weights\n",
    "\n",
    "You can explore the network parameters easily with Pytroch. Indeed, your model ```cifar_model``` is simply a list of layers, thus you can access the first layer with :\n",
    "- ```cifar_model[0]```\n",
    "\n",
    "If you want to find out the contents of this layer, use :\n",
    "\n",
    "```dir(cifar_model[0])```\n",
    "\n",
    "In particular, the convolutional weights are contained in the ```weights``` sub-structure (a multi-dimensional array). Note that this weight's size is :\n",
    "\n",
    "- $[n_{filters}, n_{channels}, y_{size}, x_{size}]$\n",
    "\n",
    "Now, display all (32) trained filters of the first convolutional layer, taking only the first channel of each filter :"
   ]
  },
  {
   "cell_type": "code",
   "execution_count": 59,
   "metadata": {
    "id": "BahI3aUN-3fG",
    "colab": {
     "base_uri": "https://localhost:8080/",
     "height": 522
    },
    "outputId": "b04fcc63-41dd-478e-d44f-ab5860a89593"
   },
   "outputs": [
    {
     "output_type": "display_data",
     "data": {
      "text/plain": [
       "<Figure size 1000x600 with 32 Axes>"
      ],
      "image/png": "[encoded data removed]"
     },
     "metadata": {}
    }
   ],
   "source": [
    "plt.figure(figsize=(10, 6))\n",
    "for num in range(0,32):\n",
    "    plt.subplot(8, 4, num+1)\n",
    "    # --- START CODE HERE\n",
    "    plt.imshow((cifar_model[0].weight[num,:,:,0]).detach().numpy(),cmap='viridis')\n",
    "    # --- END CODE HERE"
   ]
  },
  {
   "cell_type": "markdown",
   "metadata": {
    "id": "zX6yNSiKBXDH"
   },
   "source": [
    "What do you think ? Pretty incomprehensible no ? Do not spend too long trying to interpret these filters, that way madness lies.\n",
    "\n",
    "So, it seems that understanding a CNN by just looking at the filters is an exercise in futility. How can we do better ? Well, take a look at part 2 of the lab !"
   ]
  },
  {
   "cell_type": "markdown",
   "source": [
    "# Evaluation\n",
    "\n",
    "To evaluate the work, you should rate the code for\n",
    "- 1) MNIST : Defining the first model : 3 points\n",
    "- 2) MNIST : Compiling and training the first model : 1 point\n",
    "- 3) CIFAR10 : Defining the second model : 3 points\n",
    "- 4) CIFAR10 : Compiling and training the second model : 1 point\n",
    "- 5) Calculating ```predicted_class``` : 1 point\n",
    "- 6) Correctly visualising the weights : 1 point\n",
    "\n",
    "\n",
    "Total over 10 points. For the questions with three points :\n",
    "- 1 point if partially correct\n",
    "- 2 points if correct code but does not give the expected results. Be careful, sometimes the training might get stuck quickly by bad luck : restart the code a few times to make sure it is indeed a bug.\n",
    "- 3 points for correct code and correct execution"
   ],
   "metadata": {
    "id": "LydLzTUNLGYJ"
   }
  },
  {
   "cell_type": "code",
   "source": [],
   "metadata": {
    "id": "2I_qtxjpxiyZ"
   },
   "execution_count": null,
   "outputs": []
  }
 ],
 "metadata": {
  "accelerator": "GPU",
  "colab": {
   "provenance": []
  },
  "kernelspec": {
   "display_name": "Python 3 (ipykernel)",
   "language": "python",
   "name": "python3"
  },
  "language_info": {
   "codemirror_mode": {
    "name": "ipython",
    "version": 3
   },
   "file_extension": ".py",
   "mimetype": "text/x-python",
   "name": "python",
   "nbconvert_exporter": "python",
   "pygments_lexer": "ipython3",
   "version": "3.9.12"
  },
  "widgets": {
   "application/vnd.jupyter.widget-state+json": {
    "ba23909c305a47a6b7b64864c59d46b2": {
     "model_module": "@jupyter-widgets/controls",
     "model_name": "HBoxModel",
     "model_module_version": "1.5.0",
     "state": {
      "_dom_classes": [],
      "_model_module": "@jupyter-widgets/controls",
      "_model_module_version": "1.5.0",
      "_model_name": "HBoxModel",
      "_view_count": null,
      "_view_module": "@jupyter-widgets/controls",
      "_view_module_version": "1.5.0",
      "_view_name": "HBoxView",
      "box_style": "",
      "children": [
       "IPY_MODEL_4fc52afa0d9e4362bdae3eeb7b25c8ed",
       "IPY_MODEL_0004d85044ea405db3d491ca4be3176d",
       "IPY_MODEL_8c58444011fb490d846169b75ce2932e"
      ],
      "layout": "IPY_MODEL_6c81d29851c9499faedec57bd58e499a"
     }
    },
    "4fc52afa0d9e4362bdae3eeb7b25c8ed": {
     "model_module": "@jupyter-widgets/controls",
     "model_name": "HTMLModel",
     "model_module_version": "1.5.0",
     "state": {
      "_dom_classes": [],
      "_model_module": "@jupyter-widgets/controls",
      "_model_module_version": "1.5.0",
      "_model_name": "HTMLModel",
      "_view_count": null,
      "_view_module": "@jupyter-widgets/controls",
      "_view_module_version": "1.5.0",
      "_view_name": "HTMLView",
      "description": "",
      "description_tooltip": null,
      "layout": "IPY_MODEL_a1a2d9564bd84b219bb31d58bc8525ee",
      "placeholder": "​",
      "style": "IPY_MODEL_72c6a9ec7d184f27a9f6ef370e08433f",
      "value": "100%"
     }
    },
    "0004d85044ea405db3d491ca4be3176d": {
     "model_module": "@jupyter-widgets/controls",
     "model_name": "FloatProgressModel",
     "model_module_version": "1.5.0",
     "state": {
      "_dom_classes": [],
      "_model_module": "@jupyter-widgets/controls",
      "_model_module_version": "1.5.0",
      "_model_name": "FloatProgressModel",
      "_view_count": null,
      "_view_module": "@jupyter-widgets/controls",
      "_view_module_version": "1.5.0",
      "_view_name": "ProgressView",
      "bar_style": "success",
      "description": "",
      "description_tooltip": null,
      "layout": "IPY_MODEL_c16ca2ac8e584647b49253164e7c1ed0",
      "max": 10,
      "min": 0,
      "orientation": "horizontal",
      "style": "IPY_MODEL_ef97e029d3b24593abe2f54ec9581503",
      "value": 10
     }
    },
    "8c58444011fb490d846169b75ce2932e": {
     "model_module": "@jupyter-widgets/controls",
     "model_name": "HTMLModel",
     "model_module_version": "1.5.0",
     "state": {
      "_dom_classes": [],
      "_model_module": "@jupyter-widgets/controls",
      "_model_module_version": "1.5.0",
      "_model_name": "HTMLModel",
      "_view_count": null,
      "_view_module": "@jupyter-widgets/controls",
      "_view_module_version": "1.5.0",
      "_view_name": "HTMLView",
      "description": "",
      "description_tooltip": null,
      "layout": "IPY_MODEL_ec022aed3bf243cd9d2b60afd9c3df67",
      "placeholder": "​",
      "style": "IPY_MODEL_a71da53798b44452a7849c76861179c4",
      "value": " 10/10 [00:17&lt;00:00,  1.67s/it]"
     }
    },
    "6c81d29851c9499faedec57bd58e499a": {
     "model_module": "@jupyter-widgets/base",
     "model_name": "LayoutModel",
     "model_module_version": "1.2.0",
     "state": {
      "_model_module": "@jupyter-widgets/base",
      "_model_module_version": "1.2.0",
      "_model_name": "LayoutModel",
      "_view_count": null,
      "_view_module": "@jupyter-widgets/base",
      "_view_module_version": "1.2.0",
      "_view_name": "LayoutView",
      "align_content": null,
      "align_items": null,
      "align_self": null,
      "border": null,
      "bottom": null,
      "display": null,
      "flex": null,
      "flex_flow": null,
      "grid_area": null,
      "grid_auto_columns": null,
      "grid_auto_flow": null,
      "grid_auto_rows": null,
      "grid_column": null,
      "grid_gap": null,
      "grid_row": null,
      "grid_template_areas": null,
      "grid_template_columns": null,
      "grid_template_rows": null,
      "height": null,
      "justify_content": null,
      "justify_items": null,
      "left": null,
      "margin": null,
      "max_height": null,
      "max_width": null,
      "min_height": null,
      "min_width": null,
      "object_fit": null,
      "object_position": null,
      "order": null,
      "overflow": null,
      "overflow_x": null,
      "overflow_y": null,
      "padding": null,
      "right": null,
      "top": null,
      "visibility": null,
      "width": null
     }
    },
    "a1a2d9564bd84b219bb31d58bc8525ee": {
     "model_module": "@jupyter-widgets/base",
     "model_name": "LayoutModel",
     "model_module_version": "1.2.0",
     "state": {
      "_model_module": "@jupyter-widgets/base",
      "_model_module_version": "1.2.0",
      "_model_name": "LayoutModel",
      "_view_count": null,
      "_view_module": "@jupyter-widgets/base",
      "_view_module_version": "1.2.0",
      "_view_name": "LayoutView",
      "align_content": null,
      "align_items": null,
      "align_self": null,
      "border": null,
      "bottom": null,
      "display": null,
      "flex": null,
      "flex_flow": null,
      "grid_area": null,
      "grid_auto_columns": null,
      "grid_auto_flow": null,
      "grid_auto_rows": null,
      "grid_column": null,
      "grid_gap": null,
      "grid_row": null,
      "grid_template_areas": null,
      "grid_template_columns": null,
      "grid_template_rows": null,
      "height": null,
      "justify_content": null,
      "justify_items": null,
      "left": null,
      "margin": null,
      "max_height": null,
      "max_width": null,
      "min_height": null,
      "min_width": null,
      "object_fit": null,
      "object_position": null,
      "order": null,
      "overflow": null,
      "overflow_x": null,
      "overflow_y": null,
      "padding": null,
      "right": null,
      "top": null,
      "visibility": null,
      "width": null
     }
    },
    "72c6a9ec7d184f27a9f6ef370e08433f": {
     "model_module": "@jupyter-widgets/controls",
     "model_name": "DescriptionStyleModel",
     "model_module_version": "1.5.0",
     "state": {
      "_model_module": "@jupyter-widgets/controls",
      "_model_module_version": "1.5.0",
      "_model_name": "DescriptionStyleModel",
      "_view_count": null,
      "_view_module": "@jupyter-widgets/base",
      "_view_module_version": "1.2.0",
      "_view_name": "StyleView",
      "description_width": ""
     }
    },
    "c16ca2ac8e584647b49253164e7c1ed0": {
     "model_module": "@jupyter-widgets/base",
     "model_name": "LayoutModel",
     "model_module_version": "1.2.0",
     "state": {
      "_model_module": "@jupyter-widgets/base",
      "_model_module_version": "1.2.0",
      "_model_name": "LayoutModel",
      "_view_count": null,
      "_view_module": "@jupyter-widgets/base",
      "_view_module_version": "1.2.0",
      "_view_name": "LayoutView",
      "align_content": null,
      "align_items": null,
      "align_self": null,
      "border": null,
      "bottom": null,
      "display": null,
      "flex": null,
      "flex_flow": null,
      "grid_area": null,
      "grid_auto_columns": null,
      "grid_auto_flow": null,
      "grid_auto_rows": null,
      "grid_column": null,
      "grid_gap": null,
      "grid_row": null,
      "grid_template_areas": null,
      "grid_template_columns": null,
      "grid_template_rows": null,
      "height": null,
      "justify_content": null,
      "justify_items": null,
      "left": null,
      "margin": null,
      "max_height": null,
      "max_width": null,
      "min_height": null,
      "min_width": null,
      "object_fit": null,
      "object_position": null,
      "order": null,
      "overflow": null,
      "overflow_x": null,
      "overflow_y": null,
      "padding": null,
      "right": null,
      "top": null,
      "visibility": null,
      "width": null
     }
    },
    "ef97e029d3b24593abe2f54ec9581503": {
     "model_module": "@jupyter-widgets/controls",
     "model_name": "ProgressStyleModel",
     "model_module_version": "1.5.0",
     "state": {
      "_model_module": "@jupyter-widgets/controls",
      "_model_module_version": "1.5.0",
      "_model_name": "ProgressStyleModel",
      "_view_count": null,
      "_view_module": "@jupyter-widgets/base",
      "_view_module_version": "1.2.0",
      "_view_name": "StyleView",
      "bar_color": null,
      "description_width": ""
     }
    },
    "ec022aed3bf243cd9d2b60afd9c3df67": {
     "model_module": "@jupyter-widgets/base",
     "model_name": "LayoutModel",
     "model_module_version": "1.2.0",
     "state": {
      "_model_module": "@jupyter-widgets/base",
      "_model_module_version": "1.2.0",
      "_model_name": "LayoutModel",
      "_view_count": null,
      "_view_module": "@jupyter-widgets/base",
      "_view_module_version": "1.2.0",
      "_view_name": "LayoutView",
      "align_content": null,
      "align_items": null,
      "align_self": null,
      "border": null,
      "bottom": null,
      "display": null,
      "flex": null,
      "flex_flow": null,
      "grid_area": null,
      "grid_auto_columns": null,
      "grid_auto_flow": null,
      "grid_auto_rows": null,
      "grid_column": null,
      "grid_gap": null,
      "grid_row": null,
      "grid_template_areas": null,
      "grid_template_columns": null,
      "grid_template_rows": null,
      "height": null,
      "justify_content": null,
      "justify_items": null,
      "left": null,
      "margin": null,
      "max_height": null,
      "max_width": null,
      "min_height": null,
      "min_width": null,
      "object_fit": null,
      "object_position": null,
      "order": null,
      "overflow": null,
      "overflow_x": null,
      "overflow_y": null,
      "padding": null,
      "right": null,
      "top": null,
      "visibility": null,
      "width": null
     }
    },
    "a71da53798b44452a7849c76861179c4": {
     "model_module": "@jupyter-widgets/controls",
     "model_name": "DescriptionStyleModel",
     "model_module_version": "1.5.0",
     "state": {
      "_model_module": "@jupyter-widgets/controls",
      "_model_module_version": "1.5.0",
      "_model_name": "DescriptionStyleModel",
      "_view_count": null,
      "_view_module": "@jupyter-widgets/base",
      "_view_module_version": "1.2.0",
      "_view_name": "StyleView",
      "description_width": ""
     }
    },
    "4f4e1209ca44412ba8e4905d299110cb": {
     "model_module": "@jupyter-widgets/controls",
     "model_name": "HBoxModel",
     "model_module_version": "1.5.0",
     "state": {
      "_dom_classes": [],
      "_model_module": "@jupyter-widgets/controls",
      "_model_module_version": "1.5.0",
      "_model_name": "HBoxModel",
      "_view_count": null,
      "_view_module": "@jupyter-widgets/controls",
      "_view_module_version": "1.5.0",
      "_view_name": "HBoxView",
      "box_style": "",
      "children": [
       "IPY_MODEL_aaf10cee2acc4393bc03826774e88b58",
       "IPY_MODEL_140bf3eefabf40d082e0e5976d218bd7",
       "IPY_MODEL_3f36ba2ee6d344268c767548fb01218b"
      ],
      "layout": "IPY_MODEL_2be9ee1ff3ec4db5acb464b02c7427e5"
     }
    },
    "aaf10cee2acc4393bc03826774e88b58": {
     "model_module": "@jupyter-widgets/controls",
     "model_name": "HTMLModel",
     "model_module_version": "1.5.0",
     "state": {
      "_dom_classes": [],
      "_model_module": "@jupyter-widgets/controls",
      "_model_module_version": "1.5.0",
      "_model_name": "HTMLModel",
      "_view_count": null,
      "_view_module": "@jupyter-widgets/controls",
      "_view_module_version": "1.5.0",
      "_view_name": "HTMLView",
      "description": "",
      "description_tooltip": null,
      "layout": "IPY_MODEL_2e22d5af7b184848831ffc757dd994db",
      "placeholder": "​",
      "style": "IPY_MODEL_4ee4e5e4d9fe43f280b8eb7e9936a555",
      "value": "100%"
     }
    },
    "140bf3eefabf40d082e0e5976d218bd7": {
     "model_module": "@jupyter-widgets/controls",
     "model_name": "FloatProgressModel",
     "model_module_version": "1.5.0",
     "state": {
      "_dom_classes": [],
      "_model_module": "@jupyter-widgets/controls",
      "_model_module_version": "1.5.0",
      "_model_name": "FloatProgressModel",
      "_view_count": null,
      "_view_module": "@jupyter-widgets/controls",
      "_view_module_version": "1.5.0",
      "_view_name": "ProgressView",
      "bar_style": "success",
      "description": "",
      "description_tooltip": null,
      "layout": "IPY_MODEL_ee68f1c4ecc04684b61ce09d7bb7194b",
      "max": 25,
      "min": 0,
      "orientation": "horizontal",
      "style": "IPY_MODEL_91abde7f92794921946806b0a3258cf5",
      "value": 25
     }
    },
    "3f36ba2ee6d344268c767548fb01218b": {
     "model_module": "@jupyter-widgets/controls",
     "model_name": "HTMLModel",
     "model_module_version": "1.5.0",
     "state": {
      "_dom_classes": [],
      "_model_module": "@jupyter-widgets/controls",
      "_model_module_version": "1.5.0",
      "_model_name": "HTMLModel",
      "_view_count": null,
      "_view_module": "@jupyter-widgets/controls",
      "_view_module_version": "1.5.0",
      "_view_name": "HTMLView",
      "description": "",
      "description_tooltip": null,
      "layout": "IPY_MODEL_e5f35445f4af4c71bbc5b8926e4e278f",
      "placeholder": "​",
      "style": "IPY_MODEL_3acb8248a08f4c52be82948693cc10c9",
      "value": " 25/25 [03:51&lt;00:00,  9.21s/it]"
     }
    },
    "2be9ee1ff3ec4db5acb464b02c7427e5": {
     "model_module": "@jupyter-widgets/base",
     "model_name": "LayoutModel",
     "model_module_version": "1.2.0",
     "state": {
      "_model_module": "@jupyter-widgets/base",
      "_model_module_version": "1.2.0",
      "_model_name": "LayoutModel",
      "_view_count": null,
      "_view_module": "@jupyter-widgets/base",
      "_view_module_version": "1.2.0",
      "_view_name": "LayoutView",
      "align_content": null,
      "align_items": null,
      "align_self": null,
      "border": null,
      "bottom": null,
      "display": null,
      "flex": null,
      "flex_flow": null,
      "grid_area": null,
      "grid_auto_columns": null,
      "grid_auto_flow": null,
      "grid_auto_rows": null,
      "grid_column": null,
      "grid_gap": null,
      "grid_row": null,
      "grid_template_areas": null,
      "grid_template_columns": null,
      "grid_template_rows": null,
      "height": null,
      "justify_content": null,
      "justify_items": null,
      "left": null,
      "margin": null,
      "max_height": null,
      "max_width": null,
      "min_height": null,
      "min_width": null,
      "object_fit": null,
      "object_position": null,
      "order": null,
      "overflow": null,
      "overflow_x": null,
      "overflow_y": null,
      "padding": null,
      "right": null,
      "top": null,
      "visibility": null,
      "width": null
     }
    },
    "2e22d5af7b184848831ffc757dd994db": {
     "model_module": "@jupyter-widgets/base",
     "model_name": "LayoutModel",
     "model_module_version": "1.2.0",
     "state": {
      "_model_module": "@jupyter-widgets/base",
      "_model_module_version": "1.2.0",
      "_model_name": "LayoutModel",
      "_view_count": null,
      "_view_module": "@jupyter-widgets/base",
      "_view_module_version": "1.2.0",
      "_view_name": "LayoutView",
      "align_content": null,
      "align_items": null,
      "align_self": null,
      "border": null,
      "bottom": null,
      "display": null,
      "flex": null,
      "flex_flow": null,
      "grid_area": null,
      "grid_auto_columns": null,
      "grid_auto_flow": null,
      "grid_auto_rows": null,
      "grid_column": null,
      "grid_gap": null,
      "grid_row": null,
      "grid_template_areas": null,
      "grid_template_columns": null,
      "grid_template_rows": null,
      "height": null,
      "justify_content": null,
      "justify_items": null,
      "left": null,
      "margin": null,
      "max_height": null,
      "max_width": null,
      "min_height": null,
      "min_width": null,
      "object_fit": null,
      "object_position": null,
      "order": null,
      "overflow": null,
      "overflow_x": null,
      "overflow_y": null,
      "padding": null,
      "right": null,
      "top": null,
      "visibility": null,
      "width": null
     }
    },
    "4ee4e5e4d9fe43f280b8eb7e9936a555": {
     "model_module": "@jupyter-widgets/controls",
     "model_name": "DescriptionStyleModel",
     "model_module_version": "1.5.0",
     "state": {
      "_model_module": "@jupyter-widgets/controls",
      "_model_module_version": "1.5.0",
      "_model_name": "DescriptionStyleModel",
      "_view_count": null,
      "_view_module": "@jupyter-widgets/base",
      "_view_module_version": "1.2.0",
      "_view_name": "StyleView",
      "description_width": ""
     }
    },
    "ee68f1c4ecc04684b61ce09d7bb7194b": {
     "model_module": "@jupyter-widgets/base",
     "model_name": "LayoutModel",
     "model_module_version": "1.2.0",
     "state": {
      "_model_module": "@jupyter-widgets/base",
      "_model_module_version": "1.2.0",
      "_model_name": "LayoutModel",
      "_view_count": null,
      "_view_module": "@jupyter-widgets/base",
      "_view_module_version": "1.2.0",
      "_view_name": "LayoutView",
      "align_content": null,
      "align_items": null,
      "align_self": null,
      "border": null,
      "bottom": null,
      "display": null,
      "flex": null,
      "flex_flow": null,
      "grid_area": null,
      "grid_auto_columns": null,
      "grid_auto_flow": null,
      "grid_auto_rows": null,
      "grid_column": null,
      "grid_gap": null,
      "grid_row": null,
      "grid_template_areas": null,
      "grid_template_columns": null,
      "grid_template_rows": null,
      "height": null,
      "justify_content": null,
      "justify_items": null,
      "left": null,
      "margin": null,
      "max_height": null,
      "max_width": null,
      "min_height": null,
      "min_width": null,
      "object_fit": null,
      "object_position": null,
      "order": null,
      "overflow": null,
      "overflow_x": null,
      "overflow_y": null,
      "padding": null,
      "right": null,
      "top": null,
      "visibility": null,
      "width": null
     }
    },
    "91abde7f92794921946806b0a3258cf5": {
     "model_module": "@jupyter-widgets/controls",
     "model_name": "ProgressStyleModel",
     "model_module_version": "1.5.0",
     "state": {
      "_model_module": "@jupyter-widgets/controls",
      "_model_module_version": "1.5.0",
      "_model_name": "ProgressStyleModel",
      "_view_count": null,
      "_view_module": "@jupyter-widgets/base",
      "_view_module_version": "1.2.0",
      "_view_name": "StyleView",
      "bar_color": null,
      "description_width": ""
     }
    },
    "e5f35445f4af4c71bbc5b8926e4e278f": {
     "model_module": "@jupyter-widgets/base",
     "model_name": "LayoutModel",
     "model_module_version": "1.2.0",
     "state": {
      "_model_module": "@jupyter-widgets/base",
      "_model_module_version": "1.2.0",
      "_model_name": "LayoutModel",
      "_view_count": null,
      "_view_module": "@jupyter-widgets/base",
      "_view_module_version": "1.2.0",
      "_view_name": "LayoutView",
      "align_content": null,
      "align_items": null,
      "align_self": null,
      "border": null,
      "bottom": null,
      "display": null,
      "flex": null,
      "flex_flow": null,
      "grid_area": null,
      "grid_auto_columns": null,
      "grid_auto_flow": null,
      "grid_auto_rows": null,
      "grid_column": null,
      "grid_gap": null,
      "grid_row": null,
      "grid_template_areas": null,
      "grid_template_columns": null,
      "grid_template_rows": null,
      "height": null,
      "justify_content": null,
      "justify_items": null,
      "left": null,
      "margin": null,
      "max_height": null,
      "max_width": null,
      "min_height": null,
      "min_width": null,
      "object_fit": null,
      "object_position": null,
      "order": null,
      "overflow": null,
      "overflow_x": null,
      "overflow_y": null,
      "padding": null,
      "right": null,
      "top": null,
      "visibility": null,
      "width": null
     }
    },
    "3acb8248a08f4c52be82948693cc10c9": {
     "model_module": "@jupyter-widgets/controls",
     "model_name": "DescriptionStyleModel",
     "model_module_version": "1.5.0",
     "state": {
      "_model_module": "@jupyter-widgets/controls",
      "_model_module_version": "1.5.0",
      "_model_name": "DescriptionStyleModel",
      "_view_count": null,
      "_view_module": "@jupyter-widgets/base",
      "_view_module_version": "1.2.0",
      "_view_name": "StyleView",
      "description_width": ""
     }
    }
   }
  }
 },
 "nbformat": 4,
 "nbformat_minor": 0
}
